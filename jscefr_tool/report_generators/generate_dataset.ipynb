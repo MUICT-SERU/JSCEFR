{
 "cells": [
  {
   "cell_type": "code",
   "execution_count": 29,
   "metadata": {},
   "outputs": [
    {
     "name": "stdout",
     "output_type": "stream",
     "text": [
      "doing TEST at ../report/DATA_JSON/react.json\n"
     ]
    }
   ],
   "source": [
    "import os\n",
    "import json\n",
    "import shutil\n",
    "import sys\n",
    "from alive_progress import alive_bar\n",
    "from time import sleep\n",
    "\n",
    "PROJECT = 'react'\n",
    "\n",
    "# Skipping A1 and A2\n",
    "skip = False\n",
    "\n",
    "PATH = '../report/DATA_JSON/' + PROJECT + '.json'\n",
    "\n",
    "# \"LAYER\" | \"LENGTH\" | \"TEST\"\n",
    "CHOICE = \"TEST\"\n",
    "\n",
    "print(f'doing {CHOICE} at {PATH}')\n",
    "\n",
    "try:\n",
    "    shutil.rmtree(f'processed_data/{PROJECT}/{CHOICE}')\n",
    "except FileNotFoundError:\n",
    "    pass\n",
    "\n",
    "os.makedirs(f'processed_data/{PROJECT}/{CHOICE}')\n",
    "\n",
    "DATA_COMP = {\n",
    "    'A1': 1,\n",
    "    'A2': 2,\n",
    "    'B1': 3,\n",
    "    'B2': 4,\n",
    "    'C1': 5,\n",
    "    'C2': 6,\n",
    "}\n",
    "\n",
    "dim_y = []\n",
    "dim_x = []\n",
    "\n",
    "data_dict = {}"
   ]
  },
  {
   "cell_type": "code",
   "execution_count": null,
   "metadata": {},
   "outputs": [],
   "source": [
    "IGNORE_LEN = len(PROJECT) + len('input_dataset') + 1\n",
    "\n",
    "with open(f'{PATH}', 'r') as f:\n",
    "    json_data = json.load(f)\n",
    "    for project in json_data.values():\n",
    "        with alive_bar(len(project)) as bar:\n",
    "            for file_name, file_data in project.items():\n",
    "                for construct in file_data['Levels']:\n",
    "                    if skip and (construct == 'A1' or construct == 'A2'):\n",
    "                        pass\n",
    "                    else:\n",
    "                        if 'test' in file_name[IGNORE_LEN:]:\n",
    "                            dim_x.append(DATA_COMP[construct])\n",
    "                        else:\n",
    "                            dim_y.append(DATA_COMP[construct])\n",
    "        bar()"
   ]
  },
  {
   "cell_type": "code",
   "execution_count": null,
   "metadata": {},
   "outputs": [],
   "source": []
  }
 ],
 "metadata": {
  "kernelspec": {
   "display_name": "Python 3",
   "language": "python",
   "name": "python3"
  },
  "language_info": {
   "codemirror_mode": {
    "name": "ipython",
    "version": 3
   },
   "file_extension": ".py",
   "mimetype": "text/x-python",
   "name": "python",
   "nbconvert_exporter": "python",
   "pygments_lexer": "ipython3",
   "version": "3.10.6 (main, Nov 14 2022, 16:10:14) [GCC 11.3.0]"
  },
  "orig_nbformat": 4,
  "vscode": {
   "interpreter": {
    "hash": "e7370f93d1d0cde622a1f8e1c04877d8463912d04d973331ad4851f04de6915a"
   }
  }
 },
 "nbformat": 4,
 "nbformat_minor": 2
}
