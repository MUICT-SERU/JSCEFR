{
 "cells": [
  {
   "cell_type": "code",
   "execution_count": 20,
   "metadata": {},
   "outputs": [],
   "source": [
    "import json\n",
    "import os\n",
    "from scipy import stats\n",
    "import pandas as pd"
   ]
  },
  {
   "cell_type": "code",
   "execution_count": null,
   "metadata": {},
   "outputs": [],
   "source": []
  },
  {
   "cell_type": "code",
   "execution_count": 21,
   "metadata": {},
   "outputs": [],
   "source": [
    "PROJECT = [\"next\", \"react\", \"sveltekit\"]\n",
    "TYPE = [\"LAYER\", \"LENGTH\"]\n",
    "SCORING_TYPE = \"MAX\"\n"
   ]
  },
  {
   "cell_type": "code",
   "execution_count": 22,
   "metadata": {},
   "outputs": [],
   "source": [
    "try:\n",
    "    for t in TYPE:\n",
    "        os.makedirs(f'summary/{SCORING_TYPE}')\n",
    "except:\n",
    "    pass\n"
   ]
  },
  {
   "cell_type": "code",
   "execution_count": 23,
   "metadata": {},
   "outputs": [
    {
     "name": "stderr",
     "output_type": "stream",
     "text": [
      "/var/folders/j3/30lg3l551hs0j2l0k0pjts680000gn/T/ipykernel_33170/119499410.py:20: FutureWarning: In a future version, object-dtype columns with all-bool values will not be included in reductions with bool_only=True. Explicitly cast to bool dtype instead.\n",
      "  df = pd.concat([df, pd.DataFrame(new_line, index=[0])])\n",
      "/var/folders/j3/30lg3l551hs0j2l0k0pjts680000gn/T/ipykernel_33170/119499410.py:20: FutureWarning: In a future version, object-dtype columns with all-bool values will not be included in reductions with bool_only=True. Explicitly cast to bool dtype instead.\n",
      "  df = pd.concat([df, pd.DataFrame(new_line, index=[0])])\n",
      "/var/folders/j3/30lg3l551hs0j2l0k0pjts680000gn/T/ipykernel_33170/119499410.py:28: FutureWarning: In a future version, object-dtype columns with all-bool values will not be included in reductions with bool_only=True. Explicitly cast to bool dtype instead.\n",
      "  df = pd.concat([df, pd.DataFrame(new_line, index=[0])])\n",
      "/var/folders/j3/30lg3l551hs0j2l0k0pjts680000gn/T/ipykernel_33170/119499410.py:20: FutureWarning: In a future version, object-dtype columns with all-bool values will not be included in reductions with bool_only=True. Explicitly cast to bool dtype instead.\n",
      "  df = pd.concat([df, pd.DataFrame(new_line, index=[0])])\n",
      "/var/folders/j3/30lg3l551hs0j2l0k0pjts680000gn/T/ipykernel_33170/119499410.py:20: FutureWarning: In a future version, object-dtype columns with all-bool values will not be included in reductions with bool_only=True. Explicitly cast to bool dtype instead.\n",
      "  df = pd.concat([df, pd.DataFrame(new_line, index=[0])])\n",
      "/var/folders/j3/30lg3l551hs0j2l0k0pjts680000gn/T/ipykernel_33170/119499410.py:28: FutureWarning: In a future version, object-dtype columns with all-bool values will not be included in reductions with bool_only=True. Explicitly cast to bool dtype instead.\n",
      "  df = pd.concat([df, pd.DataFrame(new_line, index=[0])])\n"
     ]
    }
   ],
   "source": [
    "\n",
    "for ttype in TYPE:\n",
    "    df = pd.DataFrame(columns=[\"project\", \"type\", \"corr\", \"p_val\", \"is_significant\"])\n",
    "    data_type_x = []\n",
    "    data_type_y = []\n",
    "    for project in PROJECT:\n",
    "        f = open(\n",
    "            f'../processed_data/{SCORING_TYPE}/{project}/{ttype}/dim_x.json')\n",
    "        dataset_1 = json.loads(f.read())\n",
    "        data_type_x.append(dataset_1)\n",
    "        f.close()\n",
    "        f = open(\n",
    "            f'../processed_data/{SCORING_TYPE}/{project}/{ttype}/dim_y.json')\n",
    "        dataset_2 = json.loads(f.read())\n",
    "        data_type_y.append(dataset_2)\n",
    "        f.close()\n",
    "\n",
    "        corr, p_val = stats.kendalltau(dataset_1, dataset_2)\n",
    "\n",
    "        new_line = {\"project\": project, \"type\": ttype, \"corr\" : corr, \"p_val\": p_val, \"is_significant\": p_val < 0.05}\n",
    "        df = pd.concat([df, pd.DataFrame(new_line, index=[0])])\n",
    "\n",
    "    flatten_x = [item for sublist in data_type_x for item in sublist]\n",
    "    flatten_y = [item for sublist in data_type_y for item in sublist]\n",
    "    corr, p_val = stats.kendalltau(flatten_x, flatten_y)\n",
    "\n",
    "    new_line = {\"project\": \"all\", \"type\": ttype, \"corr\": corr,\n",
    "                \"p_val\": p_val, \"is_significant\": p_val < 0.05}\n",
    "    df = pd.concat([df, pd.DataFrame(new_line, index=[0])])\n",
    "\n",
    "    df.to_csv(f\"./summary/{SCORING_TYPE}/{ttype}.csv\", index=False)\n",
    "\n",
    "    \n"
   ]
  },
  {
   "cell_type": "code",
   "execution_count": null,
   "metadata": {},
   "outputs": [],
   "source": []
  }
 ],
 "metadata": {
  "kernelspec": {
   "display_name": "Python 3",
   "language": "python",
   "name": "python3"
  },
  "language_info": {
   "codemirror_mode": {
    "name": "ipython",
    "version": 3
   },
   "file_extension": ".py",
   "mimetype": "text/x-python",
   "name": "python",
   "nbconvert_exporter": "python",
   "pygments_lexer": "ipython3",
   "version": "3.10.11"
  },
  "orig_nbformat": 4,
  "vscode": {
   "interpreter": {
    "hash": "b0fa6594d8f4cbf19f97940f81e996739fb7646882a419484c72d19e05852a7e"
   }
  }
 },
 "nbformat": 4,
 "nbformat_minor": 2
}
