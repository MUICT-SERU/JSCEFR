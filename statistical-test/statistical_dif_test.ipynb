{
 "cells": [
  {
   "cell_type": "code",
   "execution_count": 34,
   "metadata": {},
   "outputs": [],
   "source": [
    "import json\n",
    "import os\n",
    "from scipy import stats\n",
    "import pandas as pd\n",
    "from scipy.stats import normaltest, mannwhitneyu, ttest_ind, shapiro\n",
    "import numpy as np\n",
    "from cliffs_delta import cliffs_delta\n"
   ]
  },
  {
   "cell_type": "code",
   "execution_count": 35,
   "metadata": {},
   "outputs": [],
   "source": [
    "PROJECT = [\"next\", \"react\", \"sveltekit\"]\n",
    "TYPE = \"TEST\"\n",
    "SCORING_TYPE = \"MAX\"\n"
   ]
  },
  {
   "cell_type": "code",
   "execution_count": 36,
   "metadata": {},
   "outputs": [
    {
     "name": "stdout",
     "output_type": "stream",
     "text": [
      "next x: 23918, y: 7962\n",
      "Effect size (r): (0.21180424517923468, 'small')\n",
      "mannwhitneyu\n",
      "react x: 5827, y: 11345\n",
      "Effect size (r): (-0.180093549405236, 'small')\n",
      "mannwhitneyu\n",
      "sveltekit x: 2837, y: 1308\n",
      "Effect size (r): (-0.10217619076877306, 'negligible')\n",
      "mannwhitneyu\n",
      "x: 32582, y: 20615\n",
      "Effect size (r): (-0.10217619076877306, 'negligible')\n"
     ]
    },
    {
     "name": "stderr",
     "output_type": "stream",
     "text": [
      "/var/folders/j3/30lg3l551hs0j2l0k0pjts680000gn/T/ipykernel_56326/1348280913.py:37: FutureWarning: In a future version, object-dtype columns with all-bool values will not be included in reductions with bool_only=True. Explicitly cast to bool dtype instead.\n",
      "  df = pd.concat([df, pd.DataFrame([new_line])], ignore_index=True)\n",
      "/var/folders/j3/30lg3l551hs0j2l0k0pjts680000gn/T/ipykernel_56326/1348280913.py:37: FutureWarning: In a future version, object-dtype columns with all-bool values will not be included in reductions with bool_only=True. Explicitly cast to bool dtype instead.\n",
      "  df = pd.concat([df, pd.DataFrame([new_line])], ignore_index=True)\n",
      "/var/folders/j3/30lg3l551hs0j2l0k0pjts680000gn/T/ipykernel_56326/1348280913.py:64: FutureWarning: In a future version, object-dtype columns with all-bool values will not be included in reductions with bool_only=True. Explicitly cast to bool dtype instead.\n",
      "  df = pd.concat([df, pd.DataFrame([new_line])], ignore_index=True)\n"
     ]
    }
   ],
   "source": [
    "all_test_dataset = []\n",
    "all_non_test_dataset = []\n",
    "df = pd.DataFrame(columns=[\"project\", \"stat\", \"p_val\", \"is_diff\"])\n",
    "for project in PROJECT:\n",
    "    f = open(\n",
    "        f'../processed_data/{SCORING_TYPE}/{project}/TEST/dim_x.json')\n",
    "    test_dataset = json.loads(f.read()) \n",
    "    all_test_dataset.append(test_dataset) \n",
    "    f.close()\n",
    "    f = open(\n",
    "        f'../processed_data/{SCORING_TYPE}/{project}/TEST/dim_y.json')\n",
    "    non_test_dataset = json.loads(f.read())\n",
    "    all_non_test_dataset.append(non_test_dataset)\n",
    "    f.close()\n",
    "\n",
    "    print(f\"{project} x: {len(test_dataset)}, y: {len(non_test_dataset)}\")\n",
    "    isnormal = normaltest(test_dataset).pvalue >= 0.005 and normaltest(\n",
    "        non_test_dataset).pvalue >= 0.005\n",
    "    \n",
    "    stat, p_val, r = 0, 0, 0\n",
    "\n",
    "    if isnormal:\n",
    "        stat, p_val = ttest_ind(test_dataset, non_test_dataset, alternative='two-sided', trim=0)\n",
    "        print('ttest')\n",
    "    else:\n",
    "        stat, p_val = mannwhitneyu(test_dataset, non_test_dataset, method=\"auto\")\n",
    "        n1, n2 = len(test_dataset), len(non_test_dataset)\n",
    "        # r = np.sqrt(stat / (n1 * n2))\n",
    "        # d = (2 * r) / np.sqrt(1 - r**2)\n",
    "        # d = 1 - (2*stat)/(n1*n2)\n",
    "        d = cliffs_delta(test_dataset, non_test_dataset)\n",
    "\n",
    "        print(\"Effect size (r):\", d)\n",
    "        print('mannwhitneyu')\n",
    "\n",
    "    new_line = {\"project\": project, \"stat\": stat, \"p_val\": p_val, \"effect_size\": d, \"is_diff\": p_val < 0.05}\n",
    "    df = pd.concat([df, pd.DataFrame([new_line])], ignore_index=True)\n",
    "\n",
    "flatten_all_test_dataset = [item for sublist in all_test_dataset for item in sublist]\n",
    "flatten_all_non_test_dataset = [item for sublist in all_non_test_dataset for item in sublist]\n",
    "isnormal = normaltest(flatten_all_test_dataset).pvalue >= 0.005 and normaltest(\n",
    "    flatten_all_non_test_dataset).pvalue >= 0.005\n",
    "\n",
    "print(f\"x: {len(flatten_all_test_dataset)}, y: {len(flatten_all_non_test_dataset)}\")\n",
    "stat, p_val, eff = 0, 0, 0\n",
    "\n",
    "if isnormal:\n",
    "    stat, p_val = ttest_ind(flatten_all_test_dataset, flatten_all_non_test_dataset,\n",
    "                            alternative='two-sided', trim=0)\n",
    "    print('ttest')\n",
    "else:\n",
    "    stat, p_val = mannwhitneyu(flatten_all_test_dataset, flatten_all_non_test_dataset, method=\"auto\")\n",
    "    n1, n2 = len(flatten_all_test_dataset), len(flatten_all_non_test_dataset)\n",
    "    # r = np.sqrt(stat / (n1 * n2))\n",
    "    # d = (2 * r) / np.sqrt(1 - r**2)\n",
    "    # d = 1 - (2*stat)/(n1*n2)\n",
    "    d = cliffs_delta(test_dataset, non_test_dataset)\n",
    "\n",
    "    print(\"Effect size (r):\", d)\n",
    "    # print('mannwhitneyu', eff)\n",
    "\n",
    "new_line = {\"project\": \"all\", \"stat\": stat,\n",
    "            \"p_val\": p_val, \"effect_size\": d, \"is_diff\": p_val < 0.05}\n",
    "df = pd.concat([df, pd.DataFrame([new_line])], ignore_index=True)\n",
    "df.to_csv(f\"./summary/{SCORING_TYPE}/TEST.csv\", index=False)\n",
    "\n",
    "# with open(f'./summary/{SCORING_TYPE}/raw_test.csv', 'w') as f:\n",
    "#     f.write('x,\\n')\n",
    "#     for x in flatten_all_test_dataset:\n",
    "#         f.write(f'{x}\\n')\n",
    "\n",
    "# with open(f'./summary/{SCORING_TYPE}/raw_non_test.csv', 'w') as f:\n",
    "#     f.write('y,\\n')\n",
    "#     for y in flatten_all_non_test_dataset:\n",
    "#         f.write(f'{y}\\n')\n"
   ]
  }
 ],
 "metadata": {
  "kernelspec": {
   "display_name": "Python 3",
   "language": "python",
   "name": "python3"
  },
  "language_info": {
   "codemirror_mode": {
    "name": "ipython",
    "version": 3
   },
   "file_extension": ".py",
   "mimetype": "text/x-python",
   "name": "python",
   "nbconvert_exporter": "python",
   "pygments_lexer": "ipython3",
   "version": "3.10.10"
  },
  "orig_nbformat": 4,
  "vscode": {
   "interpreter": {
    "hash": "bd385fe162c5ca0c84973b7dd5c518456272446b2b64e67c2a69f949ca7a1754"
   }
  }
 },
 "nbformat": 4,
 "nbformat_minor": 2
}
