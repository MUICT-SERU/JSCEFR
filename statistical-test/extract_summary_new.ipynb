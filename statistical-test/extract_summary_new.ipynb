{
 "cells": [
  {
   "cell_type": "code",
   "execution_count": 11,
   "metadata": {},
   "outputs": [],
   "source": [
    "import json\n",
    "import pandas as pd\n",
    "from scipy import stats\n",
    "import numpy as np\n",
    "from tabulate import tabulate\n",
    "\n",
    "PROJECT = ['next', 'react', 'sveltekit']\n",
    "SCORING_TYPE = 'MAX'"
   ]
  },
  {
   "cell_type": "code",
   "execution_count": null,
   "metadata": {},
   "outputs": [],
   "source": []
  },
  {
   "cell_type": "code",
   "execution_count": 12,
   "metadata": {},
   "outputs": [
    {
     "name": "stdout",
     "output_type": "stream",
     "text": [
      "next\n",
      "+----+--------------+----------------------------+-------------------+\n",
      "|    | Competency   |   Number of Code Construct |   Number of Files |\n",
      "|----+--------------+----------------------------+-------------------|\n",
      "|  0 | A1           |                       4746 |                 7 |\n",
      "|  1 | A2           |                       3991 |                11 |\n",
      "|  2 | B1           |                       4794 |              3554 |\n",
      "|  3 | B2           |                       1201 |              1146 |\n",
      "|  4 | C1           |                         94 |                94 |\n",
      "|  5 | C2           |                          0 |                 0 |\n",
      "|  6 | Total        |                      14826 |              4812 |\n",
      "+----+--------------+----------------------------+-------------------+\n",
      "react\n",
      "+----+--------------+----------------------------+-------------------+\n",
      "|    | Competency   |   Number of Code Construct |   Number of Files |\n",
      "|----+--------------+----------------------------+-------------------|\n",
      "|  0 | A1           |                       1853 |                 5 |\n",
      "|  1 | A2           |                       1190 |                12 |\n",
      "|  2 | B1           |                       1839 |              1207 |\n",
      "|  3 | B2           |                        582 |               453 |\n",
      "|  4 | C1           |                        174 |               173 |\n",
      "|  5 | C2           |                          9 |                 9 |\n",
      "|  6 | Total        |                       5647 |              1859 |\n",
      "+----+--------------+----------------------------+-------------------+\n",
      "sveltekit\n",
      "+----+--------------+----------------------------+-------------------+\n",
      "|    | Competency   |   Number of Code Construct |   Number of Files |\n",
      "|----+--------------+----------------------------+-------------------|\n",
      "|  0 | A1           |                        567 |                 7 |\n",
      "|  1 | A2           |                        317 |                 1 |\n",
      "|  2 | B1           |                        588 |               359 |\n",
      "|  3 | B2           |                        223 |               190 |\n",
      "|  4 | C1           |                         38 |                36 |\n",
      "|  5 | C2           |                          3 |                 3 |\n",
      "|  6 | Total        |                       1736 |               596 |\n",
      "+----+--------------+----------------------------+-------------------+\n"
     ]
    }
   ],
   "source": [
    "for project in PROJECT:\n",
    "    f = open(f'../processed_data/ALL/{project}/LAYER/dim_y.json')\n",
    "    raw_all = json.loads(f.read())\n",
    "    f.close()\n",
    "    f = open(f'../processed_data/MAX/{project}/LAYER/dim_y.json')\n",
    "    raw_max = json.loads(f.read())\n",
    "    f.close()\n",
    "\n",
    "    NUM_FILES = {\n",
    "        'A1': 0,\n",
    "        'A2': 0,\n",
    "        'B1': 0,\n",
    "        'B2': 0,\n",
    "        'C1': 0,\n",
    "        'C2': 0,\n",
    "    }\n",
    "    NUM_COMP = {\n",
    "        'A1': 0,\n",
    "        'A2': 0,\n",
    "        'B1': 0,\n",
    "        'B2': 0,\n",
    "        'C1': 0,\n",
    "        'C2': 0,\n",
    "    }\n",
    "\n",
    "    list_all = list(raw_all)\n",
    "    list_max = list(raw_max)\n",
    "    COMPETENCY = ['A1', 'A2', 'B1', 'B2', 'C1', 'C2']\n",
    "    for i in range(6):\n",
    "        NUM_COMP[COMPETENCY[i]] = list_all.count(i + 1)\n",
    "        NUM_FILES[COMPETENCY[i]] = list_max.count(i + 1)\n",
    "\n",
    "    # print(NUM_COMP)\n",
    "    # print(NUM_FILES)\n",
    "\n",
    "    df_num = pd.DataFrame({'Competency': COMPETENCY, 'Number of Code Construct': NUM_COMP.values(\n",
    "    ), 'Number of Files': NUM_FILES.values()})\n",
    "\n",
    "    TOTAL_COMP = sum(NUM_COMP.values())\n",
    "    TOTAL_FILES = sum(NUM_FILES.values())\n",
    "\n",
    "    df_num = pd.concat([df_num, pd.DataFrame({'Competency': ['Total'], 'Number of Code Construct': [TOTAL_COMP], 'Number of Files': [TOTAL_FILES]})], ignore_index=True)\n",
    "\n",
    "    print(project)\n",
    "    print(tabulate(df_num, headers='keys', tablefmt='psql'))\n",
    "    df_num.to_csv(f'summary/{project}.csv', index=False)\n"
   ]
  }
 ],
 "metadata": {
  "kernelspec": {
   "display_name": "Python 3",
   "language": "python",
   "name": "python3"
  },
  "language_info": {
   "codemirror_mode": {
    "name": "ipython",
    "version": 3
   },
   "file_extension": ".py",
   "mimetype": "text/x-python",
   "name": "python",
   "nbconvert_exporter": "python",
   "pygments_lexer": "ipython3",
   "version": "3.10.11"
  },
  "orig_nbformat": 4
 },
 "nbformat": 4,
 "nbformat_minor": 2
}
