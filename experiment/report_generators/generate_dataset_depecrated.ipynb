{
 "cells": [
  {
   "cell_type": "code",
   "execution_count": 12,
   "metadata": {},
   "outputs": [],
   "source": [
    "import csv\n",
    "import os\n",
    "import json\n",
    "from alive_progress import alive_bar"
   ]
  },
  {
   "cell_type": "code",
   "execution_count": 13,
   "metadata": {},
   "outputs": [
    {
     "name": "stdout",
     "output_type": "stream",
     "text": [
      "|▏⚠︎                                      | (!) 1/240 [0%] in 10.2s (0.10/s) \n"
     ]
    },
    {
     "ename": "FileNotFoundError",
     "evalue": "[Errno 2] No such file or directory: 'processed_data/fixtures/dim_x.json'",
     "output_type": "error",
     "traceback": [
      "\u001b[0;31m---------------------------------------------------------------------------\u001b[0m",
      "\u001b[0;31mFileNotFoundError\u001b[0m                         Traceback (most recent call last)",
      "Cell \u001b[0;32mIn[13], line 45\u001b[0m\n\u001b[1;32m     42\u001b[0m \u001b[39mexcept\u001b[39;00m \u001b[39mFileExistsError\u001b[39;00m:\n\u001b[1;32m     43\u001b[0m     \u001b[39mpass\u001b[39;00m\n\u001b[0;32m---> 45\u001b[0m \u001b[39mwith\u001b[39;00m \u001b[39mopen\u001b[39;49m(\u001b[39mf\u001b[39;49m\u001b[39m'\u001b[39;49m\u001b[39mprocessed_data/\u001b[39;49m\u001b[39m{\u001b[39;49;00mSUB_FOLDER\u001b[39m}\u001b[39;49;00m\u001b[39m/dim_x.json\u001b[39;49m\u001b[39m'\u001b[39;49m) \u001b[39mas\u001b[39;00m file:\n\u001b[1;32m     46\u001b[0m     file\u001b[39m.\u001b[39mwrite(json\u001b[39m.\u001b[39mdumps(dim_x), indent\u001b[39m=\u001b[39m\u001b[39m4\u001b[39m)\n\u001b[1;32m     48\u001b[0m \u001b[39mwith\u001b[39;00m \u001b[39mopen\u001b[39m(\u001b[39mf\u001b[39m\u001b[39m'\u001b[39m\u001b[39mprocessed_data/\u001b[39m\u001b[39m{\u001b[39;00mSUB_FOLDER\u001b[39m}\u001b[39;00m\u001b[39m/dim_y.json\u001b[39m\u001b[39m'\u001b[39m) \u001b[39mas\u001b[39;00m file:\n",
      "File \u001b[0;32m~/.local/lib/python3.10/site-packages/IPython/core/interactiveshell.py:282\u001b[0m, in \u001b[0;36m_modified_open\u001b[0;34m(file, *args, **kwargs)\u001b[0m\n\u001b[1;32m    275\u001b[0m \u001b[39mif\u001b[39;00m file \u001b[39min\u001b[39;00m {\u001b[39m0\u001b[39m, \u001b[39m1\u001b[39m, \u001b[39m2\u001b[39m}:\n\u001b[1;32m    276\u001b[0m     \u001b[39mraise\u001b[39;00m \u001b[39mValueError\u001b[39;00m(\n\u001b[1;32m    277\u001b[0m         \u001b[39mf\u001b[39m\u001b[39m\"\u001b[39m\u001b[39mIPython won\u001b[39m\u001b[39m'\u001b[39m\u001b[39mt let you open fd=\u001b[39m\u001b[39m{\u001b[39;00mfile\u001b[39m}\u001b[39;00m\u001b[39m by default \u001b[39m\u001b[39m\"\u001b[39m\n\u001b[1;32m    278\u001b[0m         \u001b[39m\"\u001b[39m\u001b[39mas it is likely to crash IPython. If you know what you are doing, \u001b[39m\u001b[39m\"\u001b[39m\n\u001b[1;32m    279\u001b[0m         \u001b[39m\"\u001b[39m\u001b[39myou can use builtins\u001b[39m\u001b[39m'\u001b[39m\u001b[39m open.\u001b[39m\u001b[39m\"\u001b[39m\n\u001b[1;32m    280\u001b[0m     )\n\u001b[0;32m--> 282\u001b[0m \u001b[39mreturn\u001b[39;00m io_open(file, \u001b[39m*\u001b[39;49margs, \u001b[39m*\u001b[39;49m\u001b[39m*\u001b[39;49mkwargs)\n",
      "\u001b[0;31mFileNotFoundError\u001b[0m: [Errno 2] No such file or directory: 'processed_data/fixtures/dim_x.json'"
     ]
    }
   ],
   "source": [
    "SUB_FOLDER = 'fixtures'\n",
    "\n",
    "PATH = 'analyzed_files/' + SUB_FOLDER\n",
    "\n",
    "# \"LAYER\" | \"LENGTH\"\n",
    "CHOICE = \"LAYER\"\n",
    "\n",
    "DATA_COMP = {\n",
    "    'A1': 1,\n",
    "    'A2': 2,\n",
    "    'B1': 3,\n",
    "    'B2': 4,\n",
    "    'C1': 5,\n",
    "    'C2': 6,\n",
    "}\n",
    "\n",
    "list_dir = os.listdir(PATH)\n",
    "\n",
    "dim_y = []\n",
    "dim_x = []\n",
    "\n",
    "with alive_bar(len(list_dir)) as bar:\n",
    "    for file_dir in list_dir:\n",
    "        with open(f'{PATH}/{file_dir}', 'r') as file:\n",
    "            json_data = json.load(file)\n",
    "            for file_name, file_data in json_data.items():\n",
    "                for construct in file_data:\n",
    "                    mock = 'test/react/fixtures/art/VectorWidget.js'\n",
    "                    if CHOICE == 'LAYER':\n",
    "                        file_name = file_name.replace('//', '')\n",
    "                        dim_x_data = file_name.count('/') - 1\n",
    "                        dim_y.append(DATA_COMP[construct['Level']])\n",
    "                        dim_x.append(dim_x_data)\n",
    "                    elif CHOICE == 'LENGTH':\n",
    "                        dim_x_data = len(file_name)\n",
    "                        dim_y.append(DATA_COMP[construct['Level']])\n",
    "                        dim_x.append(dim_x_data)\n",
    "    bar()\n",
    "\n",
    "try:\n",
    "    os.makedirs(f'processed_data/{SUB_FOLDER}')\n",
    "except FileExistsError:\n",
    "    pass\n",
    "\n",
    "with open(f'processed_data/{SUB_FOLDER}/dim_x.json', 'w') as file:\n",
    "    file.write(json.dumps(dim_x), indent=4)\n",
    "\n",
    "with open(f'processed_data/{SUB_FOLDER}/dim_y.json', 'w') as file:\n",
    "    file.write(json.dumps(dim_y), indent=4)"
   ]
  },
  {
   "cell_type": "code",
   "execution_count": null,
   "metadata": {},
   "outputs": [],
   "source": []
  }
 ],
 "metadata": {
  "kernelspec": {
   "display_name": "Python 3",
   "language": "python",
   "name": "python3"
  },
  "language_info": {
   "codemirror_mode": {
    "name": "ipython",
    "version": 3
   },
   "file_extension": ".py",
   "mimetype": "text/x-python",
   "name": "python",
   "nbconvert_exporter": "python",
   "pygments_lexer": "ipython3",
   "version": "3.10.6 (main, Nov 14 2022, 16:10:14) [GCC 11.3.0]"
  },
  "orig_nbformat": 4,
  "vscode": {
   "interpreter": {
    "hash": "e7370f93d1d0cde622a1f8e1c04877d8463912d04d973331ad4851f04de6915a"
   }
  }
 },
 "nbformat": 4,
 "nbformat_minor": 2
}
