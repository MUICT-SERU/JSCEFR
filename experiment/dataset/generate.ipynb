{
 "cells": [
  {
   "cell_type": "code",
   "execution_count": 9,
   "metadata": {},
   "outputs": [],
   "source": [
    "import os\n",
    "import json"
   ]
  },
  {
   "cell_type": "code",
   "execution_count": 10,
   "metadata": {},
   "outputs": [],
   "source": [
    "f = open('../report_generators/data.json', 'r')\n",
    "data = json.loads(f.read())\n",
    "\n",
    "DATA_COMP = {\n",
    "    'A1': 1,\n",
    "    'A2': 2,\n",
    "    'B1': 3,\n",
    "    'B2': 4,\n",
    "    'C1': 5,\n",
    "    'C2': 6,\n",
    "}\n",
    "\n",
    "DATA = []\n",
    "PROJECT_NAME = ''\n",
    "\n",
    "for name, project in data.items():\n",
    "    PROJECT_NAME = name\n",
    "    for file in project.values():\n",
    "        for construct in file:\n",
    "            DATA.append(DATA_COMP[construct['Level']])\n",
    "\n",
    "with open(f'list/{PROJECT_NAME}.json', 'w') as file:\n",
    "    file.write(json.dumps(DATA, indent=4))\n",
    "# print(DATA)\n",
    "f.close()"
   ]
  },
  {
   "cell_type": "code",
   "execution_count": 11,
   "metadata": {},
   "outputs": [],
   "source": [
    "import scipy.stats as stats"
   ]
  },
  {
   "cell_type": "code",
   "execution_count": 12,
   "metadata": {},
   "outputs": [
    {
     "data": {
      "text/plain": [
       "NormaltestResult(statistic=32.69951051743197, pvalue=7.932160819589574e-08)"
      ]
     },
     "execution_count": 12,
     "metadata": {},
     "output_type": "execute_result"
    }
   ],
   "source": [
    "stats.normaltest(DATA)"
   ]
  },
  {
   "cell_type": "code",
   "execution_count": null,
   "metadata": {},
   "outputs": [],
   "source": []
  }
 ],
 "metadata": {
  "kernelspec": {
   "display_name": "Python 3",
   "language": "python",
   "name": "python3"
  },
  "language_info": {
   "codemirror_mode": {
    "name": "ipython",
    "version": 3
   },
   "file_extension": ".py",
   "mimetype": "text/x-python",
   "name": "python",
   "nbconvert_exporter": "python",
   "pygments_lexer": "ipython3",
   "version": "3.10.6 (main, Nov 14 2022, 16:10:14) [GCC 11.3.0]"
  },
  "orig_nbformat": 4,
  "vscode": {
   "interpreter": {
    "hash": "e7370f93d1d0cde622a1f8e1c04877d8463912d04d973331ad4851f04de6915a"
   }
  }
 },
 "nbformat": 4,
 "nbformat_minor": 2
}
