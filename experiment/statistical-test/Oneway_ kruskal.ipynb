{
 "cells": [
  {
   "cell_type": "code",
   "execution_count": 2,
   "metadata": {},
   "outputs": [],
   "source": [
    "import json\n",
    "import os\n",
    "from scipy import stats\n",
    "from scipy.stats import f_oneway, kruskal, shapiro\n",
    "\n"
   ]
  },
  {
   "cell_type": "code",
   "execution_count": 3,
   "metadata": {},
   "outputs": [
    {
     "name": "stdout",
     "output_type": "stream",
     "text": [
      "[3, 3, 1, 1, 1, 3, 3, 3, 1, 1, 1, 1, 1, 1, 1, 1, 1, 1, 1, 1, 1, 3, 1, 1, 1, 3, 1, 1, 3, 1, 3, 1, 3, 1, 1, 3, 1, 3, 3, 2, 3, 3, 1, 1, 3, 3, 3, 3, 1, 1, 3, 4, 2, 3, 3, 3, 2, 3, 3, 3, 3, 1, 1, 1, 3, 3, 1, 1, 1, 2, 1, 1, 1, 1, 3, 1, 1, 1, 3, 1, 1, 3, 1, 3, 1, 3, 1, 3]\n",
      "[3, 3, 3, 2, 1, 2, 1, 3, 2, 2, 3, 1, 3, 2, 3, 3, 3, 1, 3, 3, 3, 2, 1, 2, 1, 3, 2, 2, 3, 1, 3, 2, 3, 3, 3, 1, 3, 3, 3, 2, 1, 2, 1, 3, 2, 2, 3, 1, 3, 2, 3, 3, 3, 1, 1, 1, 3, 3, 3, 3, 3, 3, 3, 3, 3, 3, 1, 3, 1, 3, 1, 3, 1, 1, 3, 3, 2, 1, 3, 3, 3, 1, 2, 1, 1, 3, 2, 1, 1, 3, 3, 1, 1, 3, 3, 3, 2, 1, 1, 1, 3, 3, 2, 1, 1, 3, 3, 3, 1, 1, 3, 3, 3, 2, 1, 1, 1, 3, 3, 2, 1, 1, 3, 3, 3, 1, 1, 3, 3, 3, 3, 2, 1, 1, 1, 1, 3, 3, 2, 1, 1, 3, 3, 3, 3, 1, 1, 3, 3, 3, 3, 3, 2, 1, 1, 1, 1, 3, 1, 1, 1, 1, 1, 1, 3, 2, 1, 1, 3, 3, 3, 3, 3, 1, 3, 1, 2, 1, 3, 1, 2, 1, 3, 1, 1, 3, 2, 3, 1, 2]\n"
     ]
    }
   ],
   "source": [
    "f = open('./datasets/fixtures.json')\n",
    "dataset_1 = json.loads(f.read())\n",
    "f.close()\n",
    "print(dataset_1)\n",
    "\n",
    "f = open('./datasets/packages.json')\n",
    "dataset_2 = json.loads(f.read())\n",
    "f.close()\n",
    "print(dataset_2)\n",
    "\n",
    "f = open('./datasets/scripts.json')\n",
    "dataset_3 = json.loads(f.read())\n",
    "f.close()\n",
    "\n"
   ]
  },
  {
   "cell_type": "code",
   "execution_count": 5,
   "metadata": {},
   "outputs": [
    {
     "name": "stdout",
     "output_type": "stream",
     "text": [
      "P-Value:  1.6088113070652929e-06\n"
     ]
    }
   ],
   "source": [
    "def one_way():\n",
    "    stat, p_val = f_oneway(dataset_1, dataset_2, dataset_3)\n",
    "    print(\"P-Value: \", p_val)\n",
    "\n",
    "one_way()"
   ]
  },
  {
   "cell_type": "code",
   "execution_count": 6,
   "metadata": {},
   "outputs": [],
   "source": [
    "def kruskal_wallis():\n",
    "    # return kruskal(dataset_1, dataset_2, dataset_3)\n",
    "    stat, p_val = kruskal(dataset_1, dataset_2, dataset_3)\n",
    "    print (\"P-Value: \", p_val)\n",
    "\n",
    "# k_stat, k_pvalues = kruskal_wallis()\n",
    "\n",
    "# kruskal_tuple = kruskal(dataset_1, dataset_2, dataset_3)\n",
    "\n",
    "# kruskal_tuple\n"
   ]
  },
  {
   "cell_type": "code",
   "execution_count": 7,
   "metadata": {},
   "outputs": [
    {
     "name": "stdout",
     "output_type": "stream",
     "text": [
      "not normal distribution\n",
      "use Kruskal-Wallis test\n",
      "P-Value:  2.8787113322231776e-06\n"
     ]
    }
   ],
   "source": [
    "if shapiro(dataset_1).pvalue >= 0.005 and shapiro(dataset_2).pvalue >= 0.005 and shapiro(dataset_3).pvalue >= 0.005:\n",
    "    print ('normal distribution')\n",
    "    print ('use One-way ANOVA test')\n",
    "    one_way()\n",
    "\n",
    "\n",
    "else:\n",
    "    print('not normal distribution')\n",
    "    print ('use Kruskal-Wallis test')\n",
    "    kruskal_wallis()\n",
    "    \n"
   ]
  },
  {
   "cell_type": "code",
   "execution_count": null,
   "metadata": {},
   "outputs": [],
   "source": []
  }
 ],
 "metadata": {
  "kernelspec": {
   "display_name": "Python 3",
   "language": "python",
   "name": "python3"
  },
  "language_info": {
   "codemirror_mode": {
    "name": "ipython",
    "version": 3
   },
   "file_extension": ".py",
   "mimetype": "text/x-python",
   "name": "python",
   "nbconvert_exporter": "python",
   "pygments_lexer": "ipython3",
   "version": "3.10.6"
  },
  "orig_nbformat": 4,
  "vscode": {
   "interpreter": {
    "hash": "e7370f93d1d0cde622a1f8e1c04877d8463912d04d973331ad4851f04de6915a"
   }
  }
 },
 "nbformat": 4,
 "nbformat_minor": 2
}
