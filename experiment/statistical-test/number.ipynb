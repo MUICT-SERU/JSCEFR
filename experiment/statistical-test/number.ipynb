{
 "cells": [
  {
   "cell_type": "code",
   "execution_count": 4,
   "metadata": {},
   "outputs": [],
   "source": [
    "import json\n",
    "import os"
   ]
  },
  {
   "cell_type": "code",
   "execution_count": 5,
   "metadata": {},
   "outputs": [],
   "source": [
    "def find_mean():\n",
    "    FileStream = open('./bestbags-nodejs-ecommerce.json')\n",
    "    data = json.load(FileStream)\n",
    "    for k, file in data.items():\n",
    "        # print(f'k = {k} v = {v}')\n",
    "        for filename, filedata in file.items():\n",
    "            print(f'{filename}: {filedata} \\n')\n",
    "    print(data)\n"
   ]
  },
  {
   "cell_type": "code",
   "execution_count": 6,
   "metadata": {},
   "outputs": [
    {
     "ename": "AttributeError",
     "evalue": "'list' object has no attribute 'items'",
     "output_type": "error",
     "traceback": [
      "\u001b[1;31m---------------------------------------------------------------------------\u001b[0m",
      "\u001b[1;31mAttributeError\u001b[0m                            Traceback (most recent call last)",
      "\u001b[1;32m<ipython-input-6-ef1d85502c4c>\u001b[0m in \u001b[0;36m<module>\u001b[1;34m\u001b[0m\n\u001b[1;32m----> 1\u001b[1;33m \u001b[0mfind_mean\u001b[0m\u001b[1;33m(\u001b[0m\u001b[1;33m)\u001b[0m\u001b[1;33m\u001b[0m\u001b[1;33m\u001b[0m\u001b[0m\n\u001b[0m",
      "\u001b[1;32m<ipython-input-5-1aab88be4dfd>\u001b[0m in \u001b[0;36mfind_mean\u001b[1;34m()\u001b[0m\n\u001b[0;32m      2\u001b[0m     \u001b[0mFileStream\u001b[0m \u001b[1;33m=\u001b[0m \u001b[0mopen\u001b[0m\u001b[1;33m(\u001b[0m\u001b[1;34m'./bestbags-nodejs-ecommerce.json'\u001b[0m\u001b[1;33m)\u001b[0m\u001b[1;33m\u001b[0m\u001b[1;33m\u001b[0m\u001b[0m\n\u001b[0;32m      3\u001b[0m     \u001b[0mdata\u001b[0m \u001b[1;33m=\u001b[0m \u001b[0mjson\u001b[0m\u001b[1;33m.\u001b[0m\u001b[0mload\u001b[0m\u001b[1;33m(\u001b[0m\u001b[0mFileStream\u001b[0m\u001b[1;33m)\u001b[0m\u001b[1;33m\u001b[0m\u001b[1;33m\u001b[0m\u001b[0m\n\u001b[1;32m----> 4\u001b[1;33m     \u001b[1;32mfor\u001b[0m \u001b[0mk\u001b[0m\u001b[1;33m,\u001b[0m \u001b[0mfile\u001b[0m \u001b[1;32min\u001b[0m \u001b[0mdata\u001b[0m\u001b[1;33m.\u001b[0m\u001b[0mitems\u001b[0m\u001b[1;33m(\u001b[0m\u001b[1;33m)\u001b[0m\u001b[1;33m:\u001b[0m\u001b[1;33m\u001b[0m\u001b[1;33m\u001b[0m\u001b[0m\n\u001b[0m\u001b[0;32m      5\u001b[0m         \u001b[1;31m# print(f'k = {k} v = {v}')\u001b[0m\u001b[1;33m\u001b[0m\u001b[1;33m\u001b[0m\u001b[1;33m\u001b[0m\u001b[0m\n\u001b[0;32m      6\u001b[0m         \u001b[1;32mfor\u001b[0m \u001b[0mfilename\u001b[0m\u001b[1;33m,\u001b[0m \u001b[0mfiledata\u001b[0m \u001b[1;32min\u001b[0m \u001b[0mfile\u001b[0m\u001b[1;33m.\u001b[0m\u001b[0mitems\u001b[0m\u001b[1;33m(\u001b[0m\u001b[1;33m)\u001b[0m\u001b[1;33m:\u001b[0m\u001b[1;33m\u001b[0m\u001b[1;33m\u001b[0m\u001b[0m\n",
      "\u001b[1;31mAttributeError\u001b[0m: 'list' object has no attribute 'items'"
     ]
    }
   ],
   "source": [
    "find_mean()\n"
   ]
  },
  {
   "cell_type": "code",
   "execution_count": null,
   "metadata": {},
   "outputs": [],
   "source": [
    "def find_mean():\n",
    "    FileStream = open('./bestbags-nodejs-ecommerce.json')\n",
    "    data = json.load(FileStream)\n",
    "    for k, file in data.items():\n",
    "        # print(f'k = {k} v = {v}')\n",
    "        for filename, filedata in file.items():\n",
    "            print(f'{filename}: {filedata[\"Levels\"]} \\n')\n",
    "\n"
   ]
  },
  {
   "cell_type": "code",
   "execution_count": null,
   "metadata": {},
   "outputs": [
    {
     "name": "stdout",
     "output_type": "stream",
     "text": [
      "products.js: {'A1': 60, 'A2': 68} \n",
      "\n",
      "user.js: {'A1': 56, 'A2': 56} \n",
      "\n",
      "index.js: {'A1': 124, 'A2': 97, 'B2': 2} \n",
      "\n",
      "admin.js: {'A1': 81, 'A2': 30} \n",
      "\n",
      "pages.js: {'A1': 41, 'A2': 27, 'B1': 1} \n",
      "\n",
      "app.js: {'A2': 80, 'A1': 53, 'B2': 1} \n",
      "\n"
     ]
    }
   ],
   "source": [
    "find_mean()"
   ]
  },
  {
   "cell_type": "code",
   "execution_count": 9,
   "metadata": {},
   "outputs": [
    {
     "name": "stdout",
     "output_type": "stream",
     "text": [
      "[1, 1, 2, 1, 1, 1, 3, 2, 1, 1, 2, 2, 1, 1, 1, 2, 2, 1, 1, 1, 2, 1, 3, 2, 2, 1, 1, 1, 1, 1, 1, 1, 3, 2, 1, 1, 1, 1, 3, 2, 1, 1, 1, 1, 1, 1, 2, 2, 3, 3, 2, 1, 1, 4, 3, 3, 3, 3, 3, 2, 1, 2, 1, 2, 1, 1, 2, 2, 1, 1, 1, 4, 3, 2, 3, 2, 2, 1, 1, 1, 2, 1, 3, 1, 2, 1, 3, 2, 3, 2, 2, 1, 3, 2, 2, 1, 1, 1, 1, 1, 1, 1, 1, 1, 2, 2, 3, 3, 1, 1, 1, 3, 2, 1, 1, 1, 1, 3, 2, 1, 2, 1, 1, 4, 3, 3, 3, 3, 3, 3, 2, 1, 1, 3, 3, 1, 2, 1, 2, 1, 1, 2, 2, 1, 2, 1, 1, 4, 3, 2, 1, 1, 3, 3, 1, 3, 2, 2, 1, 1, 1, 1, 1, 2, 1, 3, 3, 1, 3, 1, 2, 1, 3, 2, 3, 2, 2, 1, 3, 2, 2, 1, 1, 1, 1, 1, 1, 1, 3, 2, 1, 1, 1, 1, 3, 2, 1, 1, 1, 1, 1, 1, 2, 2, 3, 3, 2, 1, 1, 4, 3, 2, 1, 3, 3, 1, 1, 4, 3, 3, 3, 3, 3, 2, 1, 3, 2, 1, 2, 1, 1, 2, 2, 1, 1, 1, 4, 3, 2, 1, 3, 3, 2, 2, 1, 1, 3, 3, 1, 1, 2, 1, 3, 3, 3, 1, 2, 2, 1, 3, 1, 2, 1, 3, 2, 1, 3, 2, 2, 1, 3, 2, 2, 1, 1, 1, 1, 1, 1, 1, 3, 2, 1, 1, 1, 1, 3, 2, 1, 2, 1, 1, 4, 3, 3, 2, 3, 3, 2, 1, 3, 2, 2, 1, 1, 3, 3, 2, 1, 3, 2, 2, 1, 3, 1, 1, 2, 1, 1, 1, 3, 2, 1, 1, 2, 1, 1, 1, 2, 1, 1, 1, 3, 2, 1, 1, 1, 2, 2, 1, 1, 1, 2, 2, 1, 1, 1, 2, 2, 1, 1, 1, 2, 2, 1, 1, 1, 1, 2, 2, 1, 1, 1, 2, 3, 2, 3, 2, 2, 1, 3, 1, 1, 1, 1, 1, 1, 3, 2, 1, 3, 2, 2, 1, 1, 3, 2, 1, 3, 2, 2, 1, 1, 2, 3, 2, 3, 2, 1, 1, 2, 1, 2, 1, 1, 1, 1, 2, 1, 3, 3, 1, 1, 4, 2, 3, 3, 3, 3, 3, 4, 3, 2, 1, 3, 3, 1, 1, 3, 3, 3, 3, 3, 2, 3, 2, 2, 1, 3, 2, 3, 2, 1, 3, 2, 1, 3, 2, 2, 1, 3, 2, 2, 1, 3, 1, 1, 1, 1, 1, 1, 3, 2, 1, 3, 2, 2, 1, 1, 3, 2, 1, 3, 2, 2, 1, 1, 2, 3, 2, 3, 2, 1, 1, 2, 1, 1, 1, 1, 2, 1, 1, 4, 3, 2, 1, 3, 3, 1, 1, 3, 3, 1, 1, 4, 2, 3, 3, 3, 3, 3, 4, 3, 2, 1, 3, 3, 1, 3, 3, 1, 1, 3, 3, 3, 3, 3, 2, 3, 2, 2, 1, 3, 2, 3, 2, 1, 3, 2, 1, 3, 2, 2, 1, 3, 2, 2, 1, 3, 1, 1, 1, 1, 1, 1, 3, 2, 1, 1, 1, 1, 3, 2, 1, 2, 4, 3, 2, 1, 3, 3, 2, 2, 1, 1, 1, 3, 2, 1, 3, 2, 2, 1, 3, 2, 2, 1, 3, 1, 1, 1, 3, 2, 3, 3, 3, 2, 2, 1, 3, 1, 1, 2, 1, 1, 1, 2, 1, 1, 1, 2, 1, 2, 3, 3, 1, 1, 2, 2, 1, 1, 1, 2, 2, 1, 1, 1, 2, 2, 1, 1, 1, 2, 2, 1, 1, 1, 2, 2, 1, 1, 1, 3, 2, 1, 1, 2, 3, 2, 3, 2, 2, 1, 1, 1, 1, 2, 1, 1, 4, 3, 3, 3, 2, 1, 2, 1, 2, 1, 3, 2, 2, 1, 1, 1, 3, 2, 3, 2, 2, 1, 3, 2, 2, 1, 1, 1, 1, 1, 1, 3, 3, 2, 1, 1, 1, 3, 4, 3, 2, 1, 3, 3, 1, 1, 1, 1, 1, 1, 3, 3, 3, 1, 3, 3, 3, 4, 2, 3, 3, 1, 1, 3, 2, 1, 1, 1, 4, 3, 2, 1, 1, 3, 3, 2, 1, 1, 1, 1, 3, 1, 1, 3, 1, 3, 3, 1, 3, 1, 3, 1, 3, 3, 1, 3, 3, 1, 3, 3, 3, 1, 2, 1, 3, 3, 3, 1, 3, 3, 1, 3, 1, 3, 3, 3, 3, 4, 3, 2, 3, 3, 3, 2, 1, 1, 3, 2, 3, 3, 3, 2, 3, 2, 3, 2, 2, 1, 3, 2, 2, 1, 1, 1, 1, 2, 1, 1, 1, 3, 4, 3, 2, 1, 3, 3, 1, 1, 3, 3, 3, 1, 3, 2, 2, 1, 1, 1, 4, 2, 1, 3, 3, 1, 3, 2, 2, 1, 1, 1, 1, 3, 2, 2, 1, 1, 3, 3, 1, 4, 2, 3, 3, 3, 2, 3, 2, 3, 2, 2, 1, 3, 2, 2, 1, 1, 1, 1, 1, 3, 3, 1, 1, 2, 1, 3, 4, 3, 2, 1, 3, 3, 1, 3, 3, 4, 2, 3, 3, 1, 1, 3, 3, 2, 1, 1, 1, 1, 3, 1, 1, 1, 4, 3, 2, 3, 1, 3, 3, 1, 3, 1, 3, 3, 3, 1, 3, 1, 3, 1, 3, 4, 3, 3, 4, 2, 1, 3, 1, 3, 3, 3, 1, 3, 4, 3, 2, 1, 3, 3, 3, 4, 3, 2, 3, 3, 2, 3, 3, 3, 2, 3, 2, 3, 2, 2, 1, 3, 2, 2, 1, 1, 1, 1, 1, 3, 3, 1, 1, 2, 1, 3, 4, 3, 2, 1, 3, 3, 1, 3, 3, 4, 2, 3, 3, 1, 1, 3, 3, 2, 1, 1, 1, 1, 3, 1, 3, 1, 3, 1, 3, 3, 1, 3, 1, 3, 4, 3, 3, 4, 2, 1, 3, 1, 3, 3, 3, 1, 3, 4, 3, 2, 1, 3, 3, 3, 4, 3, 2, 3, 3, 2, 3, 3, 3, 2, 3, 2, 3, 2, 2, 1, 3, 2, 2, 1, 3, 1, 1, 1, 1, 1, 1, 3, 2, 1, 1, 3, 3, 1, 3, 2, 2, 1, 4, 3, 2, 3, 3, 3, 1, 1, 1, 3, 2, 1, 3, 2, 2, 1, 1, 3, 3, 2, 1, 3, 2, 2, 1, 3, 1, 1, 1, 1, 3, 3, 1, 3, 2, 2, 1, 1, 1, 4, 3, 2, 3, 3, 3, 3, 3, 2, 1, 1, 3, 1, 3, 3, 1, 1, 1, 1, 3, 2, 1, 3, 2, 3, 2, 1, 3, 2, 2, 1, 1, 1, 2, 1, 3, 1, 3, 3, 3, 3, 3, 3, 3, 2, 1, 1, 1, 1, 3, 2, 1, 3, 2, 2, 1, 4, 3, 2, 4, 3, 2, 3, 3, 2, 1, 1, 3, 3, 3, 2, 2, 1, 1, 4, 1, 1, 1, 1, 2, 1, 2, 1, 1, 3, 1, 1, 3, 4, 3, 3, 2, 3, 2, 1, 2, 1, 1, 3, 1, 1, 3, 3, 1, 2, 1, 3, 1, 1, 2, 1, 1, 1, 2, 1, 1, 1, 2, 1, 1, 1, 2, 1, 1, 1, 2, 2, 1, 1, 1, 2, 2, 1, 1, 1, 2, 2, 1, 1, 1, 2, 2, 1, 3, 2, 1, 1, 2, 1, 1, 1, 2, 1, 1, 2, 1, 1, 2, 2, 1, 1, 1, 2, 1, 1, 2, 1, 1, 1, 1, 1, 1, 1, 1, 1, 2, 1, 1, 2, 1, 1, 1, 1, 1, 2, 1, 3, 2, 2, 1, 1, 1, 1, 1, 1, 1, 1, 1, 2, 1, 1, 1, 1, 1, 1, 1, 1, 1, 1, 2, 1, 1, 2, 1, 1, 2, 1, 1, 2, 1, 1, 2, 1, 3, 2, 2, 1, 1, 1, 2, 1, 1, 2, 1, 1, 2, 1, 1, 1, 1, 1, 1, 1, 1, 2, 1, 1, 2, 1, 1, 1, 1, 1, 1, 1, 1, 3, 2, 2, 1, 1, 1, 1, 3, 3, 3, 3, 1, 1, 3, 2, 1, 1, 1, 1, 1, 1, 1, 3, 1, 3, 1, 1, 3, 3, 3, 3, 3, 1, 1, 2, 1, 1, 1, 2, 1, 1, 1, 2, 1, 1, 1, 3, 2, 1, 1, 1, 2, 2, 1, 1, 1, 2, 3, 2, 3, 2, 2, 1, 1, 1, 1, 3, 2, 2, 1, 1, 1, 3, 2, 2, 1, 1, 1, 1, 3, 2, 2, 1, 1, 1, 3, 2, 2, 1, 1, 1, 1, 3, 2, 2, 1, 1, 1, 3, 2, 2, 1, 1, 1, 1, 1, 1, 1, 3, 2, 1, 1, 1, 3, 2, 1, 3, 2, 2, 1, 1, 1, 3, 2, 3, 2, 2, 1, 1, 2, 2, 1, 1, 1, 1, 1, 3, 2, 1, 1, 1, 3, 3, 3, 3, 1, 1, 1, 1, 3, 3, 3, 3, 3, 3, 3, 3, 3, 3, 3, 3, 3, 2, 3, 2, 1, 1, 1, 1, 3, 2, 1, 1, 1, 3, 2, 2, 1, 3, 2, 1, 1, 1, 3, 2, 2, 1, 3, 3, 2, 1, 2, 1, 1, 2, 1, 1, 1, 2, 1, 1, 1, 2, 1, 1, 1, 2, 1, 1, 1, 2, 1, 1, 1, 2, 1, 1, 1, 2, 1, 1, 1, 2, 1, 1, 1, 2, 1, 1, 1, 2, 2, 1, 1, 1, 2, 1, 2, 1, 1, 2, 2, 1, 1, 1, 2, 2, 2, 1, 2, 3, 2, 2, 1, 3, 1, 2, 1, 3, 2, 2, 1, 1, 1, 1, 2, 2, 1, 3, 2, 2, 1, 3, 2, 2, 1, 3, 2, 3, 2, 3, 2, 3, 2, 1, 3, 2, 2, 3, 2, 3, 4, 2, 3, 1, 2, 1, 3, 2, 2, 1, 3, 3, 2, 1, 3, 4, 1, 1, 1, 1, 3, 2, 2, 3, 2, 3, 2, 3, 2, 3, 2, 3, 2, 1, 1, 1, 2, 3, 3, 3, 2, 3, 3, 3, 3, 3, 3, 1, 1, 4, 3, 3, 3, 2, 1, 2, 1, 2, 3, 3, 2, 3, 2, 3, 2, 2, 1, 1, 1, 1, 1, 1, 2, 1, 1, 2, 1, 1, 1, 1, 3, 3, 2, 1, 2, 2, 1, 1, 3, 1, 1, 1, 1, 1, 3, 1, 1, 1, 2, 1, 1, 1, 1, 1, 1, 3, 3, 1, 2, 1, 2, 3, 1, 1, 2, 1, 3, 2, 1, 1, 3, 2, 3, 2, 1, 1, 2, 2, 1, 1, 1, 2, 2, 1, 1, 1, 2, 2, 1, 1, 1, 2, 2, 1, 3, 2, 2, 1, 3, 2, 2, 1, 3, 2, 2, 1, 3, 2, 2, 1, 3, 2, 1, 1, 2, 2, 3, 2, 1, 1, 3, 3, 2, 3, 2, 3, 3, 1, 1, 3, 3, 2, 1, 1, 1, 3, 2, 1, 3, 3, 2, 1, 1, 1, 1, 3, 3, 3, 2, 2, 1, 3, 2, 1, 1, 3, 2, 1, 1, 3]\n"
     ]
    }
   ],
   "source": [
    "f = open('./bestbag.json')\n",
    "react_dataset = json.loads(f.read())\n",
    "f.close()\n",
    "print(react_dataset)"
   ]
  },
  {
   "cell_type": "code",
   "execution_count": 10,
   "metadata": {},
   "outputs": [
    {
     "name": "stdout",
     "output_type": "stream",
     "text": [
      "[1, 2, 1, 2, 1, 2, 1, 2, 1, 2, 2, 1, 1, 1, 1, 2, 1, 2, 1, 1, 2, 2, 2, 2, 1, 2, 1, 2, 2, 2, 2, 1, 2, 2, 1, 1, 1, 2, 2, 2, 2, 1, 1, 1, 1, 1, 2, 2, 2, 1, 2, 1, 2, 2, 1, 2, 1, 1, 2, 2, 2, 2, 2, 1, 2, 1, 1, 2, 1, 1, 1, 2, 2, 2, 2, 1, 1, 1, 1, 2, 1, 2, 1, 1, 2, 2, 2, 2, 1, 2, 1, 1, 2, 1, 2, 2, 2, 2, 1, 2, 1, 2, 1, 1, 2, 1, 1, 2, 2, 1, 2, 2, 1, 1, 1, 1, 2, 1, 2, 2, 1, 2, 2, 2, 1, 2, 1, 2, 1, 2, 1, 2, 1, 2, 1, 2, 1, 2, 1, 2, 1, 2, 1, 2, 1, 2, 1, 1, 2, 1, 2, 2, 2, 1, 1, 1, 1, 2, 2, 1, 2, 2, 1, 2, 2, 1, 1, 1, 1, 2, 1, 1, 2, 2, 1, 1, 2, 2, 2, 2, 2, 1, 2, 2, 1, 1, 1, 1, 2, 2, 1, 2, 2, 1, 2, 2, 1, 1, 1, 1, 2, 1, 2, 1, 1, 1, 2, 2, 1, 1, 1, 2, 2, 2, 2, 2, 1, 2, 2, 1, 1, 1, 1, 2, 1, 2, 2, 2, 1, 2, 1, 2, 1, 2, 2, 1, 1, 1, 2, 2, 1, 2, 1, 2, 1, 2, 2, 1, 2, 1, 2, 1, 2, 1, 2, 1, 2, 1, 2, 1, 2, 2, 2, 1, 1, 1, 2, 1, 2, 1, 2, 2, 2, 1, 2, 2, 2, 1, 1, 1, 1, 2, 1, 1, 2, 1, 1, 1, 2, 1, 2, 1, 1, 2, 1, 2, 1, 1, 1, 1, 1, 1, 2, 1, 1, 1, 2, 2, 2, 2, 2, 2, 2, 1, 1, 1, 2, 1, 1, 2, 1, 1, 1, 2, 1, 2, 1, 1, 2, 1, 1, 2, 1, 2, 2, 2, 2, 2, 1, 1, 1, 1, 2, 1, 2, 1, 1, 2, 1, 2, 1, 1, 1, 1, 1, 2, 1, 1, 1, 4, 2, 1, 1, 2, 1, 2, 2, 2, 2, 2, 2, 1, 1, 1, 1, 2, 1, 2, 1, 1, 2, 1, 2, 1, 1, 1, 1, 1, 1, 4, 2, 1, 1, 2, 1, 2, 2, 2, 2, 2, 2, 1, 1, 1, 1, 2, 1, 1, 2, 2, 1, 2, 2, 1, 2, 2, 1, 1, 1, 1, 1, 2, 1, 2, 2, 1, 1, 1, 1, 2, 2, 2, 1, 2, 1, 2, 1, 1, 2, 1, 1, 1, 1, 2, 1, 2, 2, 2, 2, 2, 1, 1, 1, 1, 1, 1, 1, 2, 2, 2, 1, 2, 1, 1, 2, 1, 2, 1, 2, 1, 2, 1, 2, 1, 2, 1, 2, 1, 2, 2, 1, 2, 1, 2, 1, 2, 1, 1, 1, 1, 1, 1, 1, 1, 1, 1, 2, 1, 1, 2, 1, 1, 1, 1, 2, 1, 2, 1, 1, 1, 1, 1, 1, 2, 1, 1, 1, 1, 1, 1, 1, 1, 2, 1, 1, 2, 1, 1, 2, 1, 1, 2, 1, 1, 2, 1, 2, 1, 1, 2, 1, 1, 2, 1, 1, 2, 1, 1, 1, 1, 1, 1, 2, 1, 1, 2, 1, 1, 1, 1, 1, 1, 2, 1, 1, 1, 2, 1, 1, 1, 1, 1, 1, 1, 1, 2, 1, 2, 1, 2, 1, 2, 1, 1, 2, 1, 2, 2, 2, 1, 1, 1, 2, 1, 2, 1, 1, 1, 2, 1, 2, 1, 1, 1, 2, 1, 2, 1, 1, 1, 1, 2, 1, 2, 2, 1, 2, 2, 1, 2, 1, 1, 1, 1, 2, 1, 1, 1, 1, 1, 3, 2, 2, 1, 1, 1, 1, 2, 1, 2, 2, 1, 2, 2, 2, 1, 2, 1, 2, 1, 2, 1, 2, 1, 2, 1, 2, 1, 2, 1, 2, 1, 2, 1, 2, 1, 2, 2, 1, 2, 1, 2, 2, 2, 2, 1, 2, 2, 1, 2, 2, 2, 2, 2, 2, 2, 2, 1, 2, 2, 2, 2, 1, 2, 2, 2, 1, 2, 1, 4, 1, 2, 2, 2, 2, 2, 2, 2, 1, 1, 1, 2, 2, 1, 2, 1, 2, 1, 2, 2, 2, 2, 1, 1, 1, 1, 1, 2, 1, 2, 1, 1, 1, 1, 2, 1, 2, 1, 2, 1, 2, 1, 1, 2, 2, 1, 2, 1, 2, 1, 2, 1, 2, 2, 2, 2, 2, 2, 1, 1, 2, 2, 2, 1, 1, 2, 2, 2, 1, 2, 2, 1, 2, 2, 1, 1, 2]\n"
     ]
    }
   ],
   "source": [
    "f = open('./bestbags-nodejs-ecommerce.json')\n",
    "angular_dataset = json.loads(f.read())\n",
    "f.close()\n",
    "print(angular_dataset)"
   ]
  },
  {
   "cell_type": "code",
   "execution_count": 11,
   "metadata": {},
   "outputs": [
    {
     "name": "stdout",
     "output_type": "stream",
     "text": [
      "878992.5\n",
      "1.729094202465165e-21\n"
     ]
    }
   ],
   "source": [
    "from scipy.stats import mannwhitneyu\n",
    "U1, p = mannwhitneyu(react_dataset, angular_dataset, method=\"auto\")\n",
    "print(U1)\n",
    "\n",
    "print(p)"
   ]
  },
  {
   "cell_type": "code",
   "execution_count": 12,
   "metadata": {},
   "outputs": [
    {
     "name": "stdout",
     "output_type": "stream",
     "text": [
      "565450.5\n"
     ]
    }
   ],
   "source": [
    "nx, ny = len(react_dataset), len(angular_dataset)\n",
    "U2 = nx*ny - U1\n",
    "print(U2)"
   ]
  },
  {
   "cell_type": "code",
   "execution_count": 14,
   "metadata": {},
   "outputs": [
    {
     "data": {
      "text/plain": [
       "NormaltestResult(statistic=987.7782988636211, pvalue=3.2112027707829627e-215)"
      ]
     },
     "execution_count": 14,
     "metadata": {},
     "output_type": "execute_result"
    }
   ],
   "source": [
    "from scipy.stats import normaltest\n",
    "\n",
    "normaltest(react_dataset)\n",
    "     \n"
   ]
  },
  {
   "cell_type": "code",
   "execution_count": 29,
   "metadata": {},
   "outputs": [
    {
     "name": "stdout",
     "output_type": "stream",
     "text": [
      "878992.5\n",
      "P-Value:  1.729094202465165e-21\n"
     ]
    }
   ],
   "source": [
    "from scipy.stats import mannwhitneyu\n",
    "def mann_whitney():\n",
    "    U1, p = mannwhitneyu(react_dataset, angular_dataset, method=\"auto\")\n",
    "    print(U1)\n",
    "    print(\"P-Value: \", p)\n",
    "mann_whitney()"
   ]
  },
  {
   "cell_type": "code",
   "execution_count": 30,
   "metadata": {},
   "outputs": [
    {
     "name": "stdout",
     "output_type": "stream",
     "text": [
      "not normal distribution\n",
      "878992.5\n",
      "P-Value:  1.729094202465165e-21\n"
     ]
    }
   ],
   "source": [
    "\n",
    "from scipy.stats import normaltest\n",
    "\n",
    "if normaltest(react_dataset).pvalue >= 0.005:\n",
    "     print ('normal distribution')\n",
    "     \n",
    "else:\n",
    "     print('not normal distribution')\n",
    "     mann_whitney()\n"
   ]
  },
  {
   "cell_type": "code",
   "execution_count": null,
   "metadata": {},
   "outputs": [],
   "source": [
    "from scipy import stats\n",
    "\n",
    "# Two-sample t-test\n",
    "statistic, pvalue = stats.ttest_ind(sample_0, sample_1)\n",
    "\n",
    "print(f'Two-sample t-test: s = {statistic:5.3f}, p = {pvalue:5.3f}')"
   ]
  },
  {
   "cell_type": "code",
   "execution_count": null,
   "metadata": {},
   "outputs": [],
   "source": [
    "f = open('./bestbag.json')\n",
    "react_dataset = json.loads(f.read())\n",
    "f.close()\n",
    "print(react_dataset)"
   ]
  },
  {
   "cell_type": "code",
   "execution_count": 32,
   "metadata": {},
   "outputs": [],
   "source": [
    "from scipy import stats"
   ]
  },
  {
   "cell_type": "code",
   "execution_count": 33,
   "metadata": {},
   "outputs": [
    {
     "data": {
      "text/plain": [
       "F_onewayResult(statistic=131.29881759465633, pvalue=1.0635390366715785e-29)"
      ]
     },
     "execution_count": 33,
     "metadata": {},
     "output_type": "execute_result"
    }
   ],
   "source": [
    "stats.f_oneway(angular_dataset, react_dataset)"
   ]
  },
  {
   "cell_type": "code",
   "execution_count": null,
   "metadata": {},
   "outputs": [],
   "source": []
  }
 ],
 "metadata": {
  "kernelspec": {
   "display_name": "Python 3",
   "language": "python",
   "name": "python3"
  },
  "language_info": {
   "codemirror_mode": {
    "name": "ipython",
    "version": 3
   },
   "file_extension": ".py",
   "mimetype": "text/x-python",
   "name": "python",
   "nbconvert_exporter": "python",
   "pygments_lexer": "ipython3",
   "version": "3.10.6 (main, Nov 14 2022, 16:10:14) [GCC 11.3.0]"
  },
  "orig_nbformat": 4,
  "vscode": {
   "interpreter": {
    "hash": "e7370f93d1d0cde622a1f8e1c04877d8463912d04d973331ad4851f04de6915a"
   }
  }
 },
 "nbformat": 4,
 "nbformat_minor": 2
}
