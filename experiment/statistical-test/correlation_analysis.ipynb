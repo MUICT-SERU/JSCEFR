{
 "cells": [
  {
   "cell_type": "code",
   "execution_count": 1,
   "metadata": {},
   "outputs": [],
   "source": [
    "import json\n",
    "import os\n",
    "from scipy import stats\n",
    "import pandas as pd"
   ]
  },
  {
   "cell_type": "code",
   "execution_count": null,
   "metadata": {},
   "outputs": [],
   "source": []
  },
  {
   "cell_type": "code",
   "execution_count": 2,
   "metadata": {},
   "outputs": [],
   "source": [
    "PROJECT = [\"next\", \"react\", \"sveltekit\"]\n",
    "TYPE = [\"LAYER\", \"LENGTH\"]\n",
    "SCORING_TYPE = \"MAX\"\n"
   ]
  },
  {
   "cell_type": "code",
   "execution_count": 3,
   "metadata": {},
   "outputs": [],
   "source": [
    "try:\n",
    "    for t in TYPE:\n",
    "        os.makedirs(f'summary/{SCORING_TYPE}')\n",
    "except:\n",
    "    pass\n"
   ]
  },
  {
   "cell_type": "code",
   "execution_count": 4,
   "metadata": {},
   "outputs": [
    {
     "ename": "FileNotFoundError",
     "evalue": "[Errno 2] No such file or directory: '../processed_data/MAX/next/LAYER/dim_x.json'",
     "output_type": "error",
     "traceback": [
      "\u001b[0;31m---------------------------------------------------------------------------\u001b[0m",
      "\u001b[0;31mFileNotFoundError\u001b[0m                         Traceback (most recent call last)",
      "\u001b[1;32m/Users/s/Desktop/git/SP2022-HelloIT-jscefr/experiment/statistical-test/correlation_analysis.ipynb Cell 5\u001b[0m in \u001b[0;36m6\n\u001b[1;32m      <a href='vscode-notebook-cell:/Users/s/Desktop/git/SP2022-HelloIT-jscefr/experiment/statistical-test/correlation_analysis.ipynb#W4sZmlsZQ%3D%3D?line=3'>4</a>\u001b[0m data_type_y \u001b[39m=\u001b[39m []\n\u001b[1;32m      <a href='vscode-notebook-cell:/Users/s/Desktop/git/SP2022-HelloIT-jscefr/experiment/statistical-test/correlation_analysis.ipynb#W4sZmlsZQ%3D%3D?line=4'>5</a>\u001b[0m \u001b[39mfor\u001b[39;00m project \u001b[39min\u001b[39;00m PROJECT:\n\u001b[0;32m----> <a href='vscode-notebook-cell:/Users/s/Desktop/git/SP2022-HelloIT-jscefr/experiment/statistical-test/correlation_analysis.ipynb#W4sZmlsZQ%3D%3D?line=5'>6</a>\u001b[0m     f \u001b[39m=\u001b[39m \u001b[39mopen\u001b[39;49m(\n\u001b[1;32m      <a href='vscode-notebook-cell:/Users/s/Desktop/git/SP2022-HelloIT-jscefr/experiment/statistical-test/correlation_analysis.ipynb#W4sZmlsZQ%3D%3D?line=6'>7</a>\u001b[0m         \u001b[39mf\u001b[39;49m\u001b[39m'\u001b[39;49m\u001b[39m../processed_data/\u001b[39;49m\u001b[39m{\u001b[39;49;00mSCORING_TYPE\u001b[39m}\u001b[39;49;00m\u001b[39m/\u001b[39;49m\u001b[39m{\u001b[39;49;00mproject\u001b[39m}\u001b[39;49;00m\u001b[39m/\u001b[39;49m\u001b[39m{\u001b[39;49;00mttype\u001b[39m}\u001b[39;49;00m\u001b[39m/dim_x.json\u001b[39;49m\u001b[39m'\u001b[39;49m)\n\u001b[1;32m      <a href='vscode-notebook-cell:/Users/s/Desktop/git/SP2022-HelloIT-jscefr/experiment/statistical-test/correlation_analysis.ipynb#W4sZmlsZQ%3D%3D?line=7'>8</a>\u001b[0m     dataset_1 \u001b[39m=\u001b[39m json\u001b[39m.\u001b[39mloads(f\u001b[39m.\u001b[39mread())\n\u001b[1;32m      <a href='vscode-notebook-cell:/Users/s/Desktop/git/SP2022-HelloIT-jscefr/experiment/statistical-test/correlation_analysis.ipynb#W4sZmlsZQ%3D%3D?line=8'>9</a>\u001b[0m     data_type_x\u001b[39m.\u001b[39mappend(dataset_1)\n",
      "\u001b[0;31mFileNotFoundError\u001b[0m: [Errno 2] No such file or directory: '../processed_data/MAX/next/LAYER/dim_x.json'"
     ]
    }
   ],
   "source": [
    "\n",
    "for ttype in TYPE:\n",
    "    df = pd.DataFrame(columns=[\"project\", \"type\", \"corr\", \"p_val\", \"is_significant\"])\n",
    "    data_type_x = []\n",
    "    data_type_y = []\n",
    "    for project in PROJECT:\n",
    "        f = open(\n",
    "            f'../processed_data/{SCORING_TYPE}/{project}/{ttype}/dim_x.json')\n",
    "        dataset_1 = json.loads(f.read())\n",
    "        data_type_x.append(dataset_1)\n",
    "        f.close()\n",
    "        f = open(\n",
    "            f'../processed_data/{SCORING_TYPE}/{project}/{ttype}/dim_y.json')\n",
    "        dataset_2 = json.loads(f.read())\n",
    "        data_type_y.append(dataset_2)\n",
    "        f.close()\n",
    "\n",
    "        corr, p_val = stats.kendalltau(dataset_1, dataset_2)\n",
    "\n",
    "        new_line = {\"project\": project, \"type\": ttype, \"corr\" : corr, \"p_val\": p_val, \"is_significant\": p_val < 0.05}\n",
    "        df = pd.concat([df, pd.DataFrame(new_line, index=[0])])\n",
    "\n",
    "    flatten_x = [item for sublist in data_type_x for item in sublist]\n",
    "    flatten_y = [item for sublist in data_type_y for item in sublist]\n",
    "    corr, p_val = stats.kendalltau(flatten_x, flatten_y)\n",
    "\n",
    "    new_line = {\"project\": \"all\", \"type\": ttype, \"corr\": corr,\n",
    "                \"p_val\": p_val, \"is_significant\": p_val < 0.05}\n",
    "    df = pd.concat([df, pd.DataFrame(new_line, index=[0])])\n",
    "\n",
    "    df.to_csv(f\"./summary/{SCORING_TYPE}/{ttype}.csv\", index=False)\n",
    "\n",
    "    \n"
   ]
  },
  {
   "cell_type": "code",
   "execution_count": null,
   "metadata": {},
   "outputs": [],
   "source": []
  }
 ],
 "metadata": {
  "kernelspec": {
   "display_name": "Python 3",
   "language": "python",
   "name": "python3"
  },
  "language_info": {
   "codemirror_mode": {
    "name": "ipython",
    "version": 3
   },
   "file_extension": ".py",
   "mimetype": "text/x-python",
   "name": "python",
   "nbconvert_exporter": "python",
   "pygments_lexer": "ipython3",
   "version": "3.10.11"
  },
  "orig_nbformat": 4,
  "vscode": {
   "interpreter": {
    "hash": "b0fa6594d8f4cbf19f97940f81e996739fb7646882a419484c72d19e05852a7e"
   }
  }
 },
 "nbformat": 4,
 "nbformat_minor": 2
}
